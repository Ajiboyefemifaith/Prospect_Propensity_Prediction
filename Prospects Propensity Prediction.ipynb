{
 "cells": [
  {
   "cell_type": "markdown",
   "id": "7316d72e",
   "metadata": {},
   "source": [
    "# Introduction"
   ]
  },
  {
   "cell_type": "markdown",
   "id": "a9e138af",
   "metadata": {},
   "source": [
    "In this project, I will be using machine learning algorithms to analyze web clicks data and develop a predictive model that can help businesses identify high-potential prospects and target their marketing efforts more effectively. The project focuses on how you can use predictive analytics in real time to decide whether a prospect has high propensity to convert and offer him a live chat with a sales agent."
   ]
  },
  {
   "cell_type": "markdown",
   "id": "f6201574",
   "metadata": {},
   "source": [
    "# Importing Libraries"
   ]
  },
  {
   "cell_type": "markdown",
   "id": "987590d4",
   "metadata": {},
   "source": [
    "We'll start by importing the necessary libraries. We'll be using pandas, numpy, matplotlib, seaborn, and sklearn."
   ]
  },
  {
   "cell_type": "code",
   "execution_count": 98,
   "id": "318e0b45",
   "metadata": {},
   "outputs": [],
   "source": [
    "import pandas as pd\n",
    "import numpy as np\n",
    "import matplotlib.pyplot as plt\n",
    "import seaborn as sns\n",
    "import warnings\n",
    "warnings.filterwarnings('ignore')"
   ]
  },
  {
   "cell_type": "markdown",
   "id": "4d2b64a3",
   "metadata": {},
   "source": [
    "# Loading the Data "
   ]
  },
  {
   "cell_type": "markdown",
   "id": "e0cedb4e",
   "metadata": {},
   "source": [
    "Next, we'll load the data into a pandas dataframe."
   ]
  },
  {
   "cell_type": "code",
   "execution_count": 28,
   "id": "df5148f0",
   "metadata": {},
   "outputs": [],
   "source": [
    "train_data=pd.read_csv('training_sample.csv')\n",
    "prediction_data=pd.read_csv('testing_sample.csv')"
   ]
  },
  {
   "cell_type": "code",
   "execution_count": 29,
   "id": "beafa38d",
   "metadata": {
    "scrolled": true
   },
   "outputs": [
    {
     "data": {
      "text/html": [
       "<div>\n",
       "<style scoped>\n",
       "    .dataframe tbody tr th:only-of-type {\n",
       "        vertical-align: middle;\n",
       "    }\n",
       "\n",
       "    .dataframe tbody tr th {\n",
       "        vertical-align: top;\n",
       "    }\n",
       "\n",
       "    .dataframe thead th {\n",
       "        text-align: right;\n",
       "    }\n",
       "</style>\n",
       "<table border=\"1\" class=\"dataframe\">\n",
       "  <thead>\n",
       "    <tr style=\"text-align: right;\">\n",
       "      <th></th>\n",
       "      <th>UserID</th>\n",
       "      <th>basket_icon_click</th>\n",
       "      <th>basket_add_list</th>\n",
       "      <th>basket_add_detail</th>\n",
       "      <th>sort_by</th>\n",
       "      <th>image_picker</th>\n",
       "      <th>account_page_click</th>\n",
       "      <th>promo_banner_click</th>\n",
       "      <th>detail_wishlist_add</th>\n",
       "      <th>list_size_dropdown</th>\n",
       "      <th>...</th>\n",
       "      <th>saw_sizecharts</th>\n",
       "      <th>saw_delivery</th>\n",
       "      <th>saw_account_upgrade</th>\n",
       "      <th>saw_homepage</th>\n",
       "      <th>device_mobile</th>\n",
       "      <th>device_computer</th>\n",
       "      <th>device_tablet</th>\n",
       "      <th>returning_user</th>\n",
       "      <th>loc_uk</th>\n",
       "      <th>ordered</th>\n",
       "    </tr>\n",
       "  </thead>\n",
       "  <tbody>\n",
       "    <tr>\n",
       "      <th>0</th>\n",
       "      <td>a720-6b732349-a720-4862-bd21-644732</td>\n",
       "      <td>0</td>\n",
       "      <td>0</td>\n",
       "      <td>0</td>\n",
       "      <td>0</td>\n",
       "      <td>0</td>\n",
       "      <td>0</td>\n",
       "      <td>0</td>\n",
       "      <td>0</td>\n",
       "      <td>0</td>\n",
       "      <td>...</td>\n",
       "      <td>0</td>\n",
       "      <td>0</td>\n",
       "      <td>0</td>\n",
       "      <td>0</td>\n",
       "      <td>1</td>\n",
       "      <td>0</td>\n",
       "      <td>0</td>\n",
       "      <td>0</td>\n",
       "      <td>1</td>\n",
       "      <td>0</td>\n",
       "    </tr>\n",
       "    <tr>\n",
       "      <th>1</th>\n",
       "      <td>a0c0-6b73247c-a0c0-4bd9-8baa-797356</td>\n",
       "      <td>0</td>\n",
       "      <td>0</td>\n",
       "      <td>0</td>\n",
       "      <td>0</td>\n",
       "      <td>0</td>\n",
       "      <td>0</td>\n",
       "      <td>0</td>\n",
       "      <td>0</td>\n",
       "      <td>0</td>\n",
       "      <td>...</td>\n",
       "      <td>0</td>\n",
       "      <td>0</td>\n",
       "      <td>0</td>\n",
       "      <td>0</td>\n",
       "      <td>1</td>\n",
       "      <td>0</td>\n",
       "      <td>0</td>\n",
       "      <td>0</td>\n",
       "      <td>1</td>\n",
       "      <td>0</td>\n",
       "    </tr>\n",
       "    <tr>\n",
       "      <th>2</th>\n",
       "      <td>86a8-6b735c67-86a8-407b-ba24-333055</td>\n",
       "      <td>0</td>\n",
       "      <td>0</td>\n",
       "      <td>0</td>\n",
       "      <td>0</td>\n",
       "      <td>0</td>\n",
       "      <td>0</td>\n",
       "      <td>0</td>\n",
       "      <td>0</td>\n",
       "      <td>0</td>\n",
       "      <td>...</td>\n",
       "      <td>0</td>\n",
       "      <td>0</td>\n",
       "      <td>0</td>\n",
       "      <td>0</td>\n",
       "      <td>1</td>\n",
       "      <td>0</td>\n",
       "      <td>0</td>\n",
       "      <td>1</td>\n",
       "      <td>1</td>\n",
       "      <td>0</td>\n",
       "    </tr>\n",
       "    <tr>\n",
       "      <th>3</th>\n",
       "      <td>6a3d-6b736346-6a3d-4085-934b-396834</td>\n",
       "      <td>0</td>\n",
       "      <td>0</td>\n",
       "      <td>0</td>\n",
       "      <td>0</td>\n",
       "      <td>0</td>\n",
       "      <td>0</td>\n",
       "      <td>0</td>\n",
       "      <td>0</td>\n",
       "      <td>0</td>\n",
       "      <td>...</td>\n",
       "      <td>0</td>\n",
       "      <td>0</td>\n",
       "      <td>0</td>\n",
       "      <td>0</td>\n",
       "      <td>1</td>\n",
       "      <td>0</td>\n",
       "      <td>0</td>\n",
       "      <td>1</td>\n",
       "      <td>1</td>\n",
       "      <td>0</td>\n",
       "    </tr>\n",
       "    <tr>\n",
       "      <th>4</th>\n",
       "      <td>b74a-6b737717-b74a-45c3-8c6a-421140</td>\n",
       "      <td>0</td>\n",
       "      <td>1</td>\n",
       "      <td>0</td>\n",
       "      <td>1</td>\n",
       "      <td>0</td>\n",
       "      <td>0</td>\n",
       "      <td>0</td>\n",
       "      <td>0</td>\n",
       "      <td>1</td>\n",
       "      <td>...</td>\n",
       "      <td>0</td>\n",
       "      <td>0</td>\n",
       "      <td>0</td>\n",
       "      <td>1</td>\n",
       "      <td>0</td>\n",
       "      <td>0</td>\n",
       "      <td>1</td>\n",
       "      <td>0</td>\n",
       "      <td>1</td>\n",
       "      <td>1</td>\n",
       "    </tr>\n",
       "  </tbody>\n",
       "</table>\n",
       "<p>5 rows × 25 columns</p>\n",
       "</div>"
      ],
      "text/plain": [
       "                                UserID  basket_icon_click  basket_add_list  \\\n",
       "0  a720-6b732349-a720-4862-bd21-644732                  0                0   \n",
       "1  a0c0-6b73247c-a0c0-4bd9-8baa-797356                  0                0   \n",
       "2  86a8-6b735c67-86a8-407b-ba24-333055                  0                0   \n",
       "3  6a3d-6b736346-6a3d-4085-934b-396834                  0                0   \n",
       "4  b74a-6b737717-b74a-45c3-8c6a-421140                  0                1   \n",
       "\n",
       "   basket_add_detail  sort_by  image_picker  account_page_click  \\\n",
       "0                  0        0             0                   0   \n",
       "1                  0        0             0                   0   \n",
       "2                  0        0             0                   0   \n",
       "3                  0        0             0                   0   \n",
       "4                  0        1             0                   0   \n",
       "\n",
       "   promo_banner_click  detail_wishlist_add  list_size_dropdown  ...  \\\n",
       "0                   0                    0                   0  ...   \n",
       "1                   0                    0                   0  ...   \n",
       "2                   0                    0                   0  ...   \n",
       "3                   0                    0                   0  ...   \n",
       "4                   0                    0                   1  ...   \n",
       "\n",
       "   saw_sizecharts  saw_delivery  saw_account_upgrade  saw_homepage  \\\n",
       "0               0             0                    0             0   \n",
       "1               0             0                    0             0   \n",
       "2               0             0                    0             0   \n",
       "3               0             0                    0             0   \n",
       "4               0             0                    0             1   \n",
       "\n",
       "   device_mobile  device_computer  device_tablet  returning_user  loc_uk  \\\n",
       "0              1                0              0               0       1   \n",
       "1              1                0              0               0       1   \n",
       "2              1                0              0               1       1   \n",
       "3              1                0              0               1       1   \n",
       "4              0                0              1               0       1   \n",
       "\n",
       "   ordered  \n",
       "0        0  \n",
       "1        0  \n",
       "2        0  \n",
       "3        0  \n",
       "4        1  \n",
       "\n",
       "[5 rows x 25 columns]"
      ]
     },
     "execution_count": 29,
     "metadata": {},
     "output_type": "execute_result"
    }
   ],
   "source": [
    "train_data.head()"
   ]
  },
  {
   "cell_type": "code",
   "execution_count": 30,
   "id": "1939a02c",
   "metadata": {},
   "outputs": [
    {
     "name": "stdout",
     "output_type": "stream",
     "text": [
      "       basket_icon_click  basket_add_list  basket_add_detail        sort_by  \\\n",
      "count      455401.000000    455401.000000      455401.000000  455401.000000   \n",
      "mean            0.099150         0.074521           0.112916       0.036849   \n",
      "std             0.298864         0.262617           0.316490       0.188391   \n",
      "min             0.000000         0.000000           0.000000       0.000000   \n",
      "25%             0.000000         0.000000           0.000000       0.000000   \n",
      "50%             0.000000         0.000000           0.000000       0.000000   \n",
      "75%             0.000000         0.000000           0.000000       0.000000   \n",
      "max             1.000000         1.000000           1.000000       1.000000   \n",
      "\n",
      "        image_picker  account_page_click  promo_banner_click  \\\n",
      "count  455401.000000       455401.000000       455401.000000   \n",
      "mean        0.026735            0.003570            0.016208   \n",
      "std         0.161307            0.059647            0.126274   \n",
      "min         0.000000            0.000000            0.000000   \n",
      "25%         0.000000            0.000000            0.000000   \n",
      "50%         0.000000            0.000000            0.000000   \n",
      "75%         0.000000            0.000000            0.000000   \n",
      "max         1.000000            1.000000            1.000000   \n",
      "\n",
      "       detail_wishlist_add  list_size_dropdown  closed_minibasket_click  ...  \\\n",
      "count        455401.000000       455401.000000            455401.000000  ...   \n",
      "mean              0.003511            0.230362                 0.017277  ...   \n",
      "std               0.059151            0.421065                 0.130302  ...   \n",
      "min               0.000000            0.000000                 0.000000  ...   \n",
      "25%               0.000000            0.000000                 0.000000  ...   \n",
      "50%               0.000000            0.000000                 0.000000  ...   \n",
      "75%               0.000000            0.000000                 0.000000  ...   \n",
      "max               1.000000            1.000000                 1.000000  ...   \n",
      "\n",
      "       saw_sizecharts   saw_delivery  saw_account_upgrade   saw_homepage  \\\n",
      "count   455401.000000  455401.000000        455401.000000  455401.000000   \n",
      "mean         0.000389       0.005542             0.001096       0.290024   \n",
      "std          0.019711       0.074241             0.033084       0.453773   \n",
      "min          0.000000       0.000000             0.000000       0.000000   \n",
      "25%          0.000000       0.000000             0.000000       0.000000   \n",
      "50%          0.000000       0.000000             0.000000       0.000000   \n",
      "75%          0.000000       0.000000             0.000000       1.000000   \n",
      "max          1.000000       1.000000             1.000000       1.000000   \n",
      "\n",
      "       device_mobile  device_computer  device_tablet  returning_user  \\\n",
      "count  455401.000000    455401.000000  455401.000000   455401.000000   \n",
      "mean        0.680706         0.194220       0.128364        0.534915   \n",
      "std         0.466204         0.395599       0.334495        0.498780   \n",
      "min         0.000000         0.000000       0.000000        0.000000   \n",
      "25%         0.000000         0.000000       0.000000        0.000000   \n",
      "50%         1.000000         0.000000       0.000000        1.000000   \n",
      "75%         1.000000         0.000000       0.000000        1.000000   \n",
      "max         1.000000         1.000000       1.000000        1.000000   \n",
      "\n",
      "              loc_uk        ordered  \n",
      "count  455401.000000  455401.000000  \n",
      "mean        0.933224       0.041926  \n",
      "std         0.249634       0.200420  \n",
      "min         0.000000       0.000000  \n",
      "25%         1.000000       0.000000  \n",
      "50%         1.000000       0.000000  \n",
      "75%         1.000000       0.000000  \n",
      "max         1.000000       1.000000  \n",
      "\n",
      "[8 rows x 24 columns]\n",
      "\n",
      "\n",
      "<class 'pandas.core.frame.DataFrame'>\n",
      "RangeIndex: 455401 entries, 0 to 455400\n",
      "Data columns (total 25 columns):\n",
      " #   Column                   Non-Null Count   Dtype \n",
      "---  ------                   --------------   ----- \n",
      " 0   UserID                   455401 non-null  object\n",
      " 1   basket_icon_click        455401 non-null  int64 \n",
      " 2   basket_add_list          455401 non-null  int64 \n",
      " 3   basket_add_detail        455401 non-null  int64 \n",
      " 4   sort_by                  455401 non-null  int64 \n",
      " 5   image_picker             455401 non-null  int64 \n",
      " 6   account_page_click       455401 non-null  int64 \n",
      " 7   promo_banner_click       455401 non-null  int64 \n",
      " 8   detail_wishlist_add      455401 non-null  int64 \n",
      " 9   list_size_dropdown       455401 non-null  int64 \n",
      " 10  closed_minibasket_click  455401 non-null  int64 \n",
      " 11  checked_delivery_detail  455401 non-null  int64 \n",
      " 12  checked_returns_detail   455401 non-null  int64 \n",
      " 13  sign_in                  455401 non-null  int64 \n",
      " 14  saw_checkout             455401 non-null  int64 \n",
      " 15  saw_sizecharts           455401 non-null  int64 \n",
      " 16  saw_delivery             455401 non-null  int64 \n",
      " 17  saw_account_upgrade      455401 non-null  int64 \n",
      " 18  saw_homepage             455401 non-null  int64 \n",
      " 19  device_mobile            455401 non-null  int64 \n",
      " 20  device_computer          455401 non-null  int64 \n",
      " 21  device_tablet            455401 non-null  int64 \n",
      " 22  returning_user           455401 non-null  int64 \n",
      " 23  loc_uk                   455401 non-null  int64 \n",
      " 24  ordered                  455401 non-null  int64 \n",
      "dtypes: int64(24), object(1)\n",
      "memory usage: 86.9+ MB\n",
      "None\n"
     ]
    }
   ],
   "source": [
    "# To check for basic info about the data\n",
    "print(train_data.describe())\n",
    "print('\\n')\n",
    "print(train_data.info())"
   ]
  },
  {
   "cell_type": "code",
   "execution_count": 31,
   "id": "effa5157",
   "metadata": {},
   "outputs": [
    {
     "data": {
      "text/plain": [
       "(455401, 25)"
      ]
     },
     "execution_count": 31,
     "metadata": {},
     "output_type": "execute_result"
    }
   ],
   "source": [
    "# to check the dimensions of the dataset\n",
    "train_data.shape"
   ]
  },
  {
   "cell_type": "code",
   "execution_count": 32,
   "id": "cbd4ae9e",
   "metadata": {},
   "outputs": [
    {
     "data": {
      "text/plain": [
       "UserID                     0\n",
       "basket_icon_click          0\n",
       "basket_add_list            0\n",
       "basket_add_detail          0\n",
       "sort_by                    0\n",
       "image_picker               0\n",
       "account_page_click         0\n",
       "promo_banner_click         0\n",
       "detail_wishlist_add        0\n",
       "list_size_dropdown         0\n",
       "closed_minibasket_click    0\n",
       "checked_delivery_detail    0\n",
       "checked_returns_detail     0\n",
       "sign_in                    0\n",
       "saw_checkout               0\n",
       "saw_sizecharts             0\n",
       "saw_delivery               0\n",
       "saw_account_upgrade        0\n",
       "saw_homepage               0\n",
       "device_mobile              0\n",
       "device_computer            0\n",
       "device_tablet              0\n",
       "returning_user             0\n",
       "loc_uk                     0\n",
       "ordered                    0\n",
       "dtype: int64"
      ]
     },
     "execution_count": 32,
     "metadata": {},
     "output_type": "execute_result"
    }
   ],
   "source": [
    "#check for missing values\n",
    "train_data.isnull().sum()"
   ]
  },
  {
   "cell_type": "markdown",
   "id": "0cedf063",
   "metadata": {},
   "source": [
    "# Exploring the Dataset"
   ]
  },
  {
   "cell_type": "code",
   "execution_count": 101,
   "id": "c917c3bb",
   "metadata": {},
   "outputs": [
    {
     "data": {
      "text/plain": [
       "0    436308\n",
       "1     19093\n",
       "Name: ordered, dtype: int64"
      ]
     },
     "execution_count": 101,
     "metadata": {},
     "output_type": "execute_result"
    }
   ],
   "source": [
    "# checking the distribution of the target\n",
    "train_data['ordered'].value_counts()"
   ]
  },
  {
   "cell_type": "markdown",
   "id": "aae467c0",
   "metadata": {},
   "source": [
    "#### Handling imbalanced data"
   ]
  },
  {
   "cell_type": "code",
   "execution_count": 63,
   "id": "59776774",
   "metadata": {},
   "outputs": [],
   "source": [
    "from imblearn.over_sampling import RandomOverSampler\n",
    "rus=RandomOverSampler()\n",
    "X_train,y_train=rus.fit_resample(X_train,y_train)"
   ]
  },
  {
   "cell_type": "markdown",
   "id": "92a9e3af",
   "metadata": {},
   "source": [
    "#### Checking correlation between features and target"
   ]
  },
  {
   "cell_type": "code",
   "execution_count": 33,
   "id": "abda8bbd",
   "metadata": {},
   "outputs": [
    {
     "data": {
      "text/html": [
       "<div>\n",
       "<style scoped>\n",
       "    .dataframe tbody tr th:only-of-type {\n",
       "        vertical-align: middle;\n",
       "    }\n",
       "\n",
       "    .dataframe tbody tr th {\n",
       "        vertical-align: top;\n",
       "    }\n",
       "\n",
       "    .dataframe thead th {\n",
       "        text-align: right;\n",
       "    }\n",
       "</style>\n",
       "<table border=\"1\" class=\"dataframe\">\n",
       "  <thead>\n",
       "    <tr style=\"text-align: right;\">\n",
       "      <th></th>\n",
       "      <th>ordered</th>\n",
       "    </tr>\n",
       "  </thead>\n",
       "  <tbody>\n",
       "    <tr>\n",
       "      <th>basket_icon_click</th>\n",
       "      <td>42.833414</td>\n",
       "    </tr>\n",
       "    <tr>\n",
       "      <th>basket_add_list</th>\n",
       "      <td>28.766577</td>\n",
       "    </tr>\n",
       "    <tr>\n",
       "      <th>basket_add_detail</th>\n",
       "      <td>41.441970</td>\n",
       "    </tr>\n",
       "    <tr>\n",
       "      <th>sort_by</th>\n",
       "      <td>5.463596</td>\n",
       "    </tr>\n",
       "    <tr>\n",
       "      <th>image_picker</th>\n",
       "      <td>7.149208</td>\n",
       "    </tr>\n",
       "    <tr>\n",
       "      <th>account_page_click</th>\n",
       "      <td>5.727908</td>\n",
       "    </tr>\n",
       "    <tr>\n",
       "      <th>promo_banner_click</th>\n",
       "      <td>5.653266</td>\n",
       "    </tr>\n",
       "    <tr>\n",
       "      <th>detail_wishlist_add</th>\n",
       "      <td>2.351650</td>\n",
       "    </tr>\n",
       "    <tr>\n",
       "      <th>list_size_dropdown</th>\n",
       "      <td>15.486702</td>\n",
       "    </tr>\n",
       "    <tr>\n",
       "      <th>closed_minibasket_click</th>\n",
       "      <td>14.001140</td>\n",
       "    </tr>\n",
       "    <tr>\n",
       "      <th>checked_delivery_detail</th>\n",
       "      <td>79.872048</td>\n",
       "    </tr>\n",
       "    <tr>\n",
       "      <th>checked_returns_detail</th>\n",
       "      <td>5.948372</td>\n",
       "    </tr>\n",
       "    <tr>\n",
       "      <th>sign_in</th>\n",
       "      <td>66.555574</td>\n",
       "    </tr>\n",
       "    <tr>\n",
       "      <th>saw_checkout</th>\n",
       "      <td>70.898557</td>\n",
       "    </tr>\n",
       "    <tr>\n",
       "      <th>saw_sizecharts</th>\n",
       "      <td>0.754803</td>\n",
       "    </tr>\n",
       "    <tr>\n",
       "      <th>saw_delivery</th>\n",
       "      <td>3.146089</td>\n",
       "    </tr>\n",
       "    <tr>\n",
       "      <th>saw_account_upgrade</th>\n",
       "      <td>2.585746</td>\n",
       "    </tr>\n",
       "    <tr>\n",
       "      <th>saw_homepage</th>\n",
       "      <td>15.777765</td>\n",
       "    </tr>\n",
       "    <tr>\n",
       "      <th>device_mobile</th>\n",
       "      <td>-4.290651</td>\n",
       "    </tr>\n",
       "    <tr>\n",
       "      <th>device_computer</th>\n",
       "      <td>4.920838</td>\n",
       "    </tr>\n",
       "    <tr>\n",
       "      <th>device_tablet</th>\n",
       "      <td>1.693924</td>\n",
       "    </tr>\n",
       "    <tr>\n",
       "      <th>returning_user</th>\n",
       "      <td>6.029455</td>\n",
       "    </tr>\n",
       "    <tr>\n",
       "      <th>loc_uk</th>\n",
       "      <td>3.164270</td>\n",
       "    </tr>\n",
       "    <tr>\n",
       "      <th>ordered</th>\n",
       "      <td>100.000000</td>\n",
       "    </tr>\n",
       "  </tbody>\n",
       "</table>\n",
       "</div>"
      ],
      "text/plain": [
       "                            ordered\n",
       "basket_icon_click         42.833414\n",
       "basket_add_list           28.766577\n",
       "basket_add_detail         41.441970\n",
       "sort_by                    5.463596\n",
       "image_picker               7.149208\n",
       "account_page_click         5.727908\n",
       "promo_banner_click         5.653266\n",
       "detail_wishlist_add        2.351650\n",
       "list_size_dropdown        15.486702\n",
       "closed_minibasket_click   14.001140\n",
       "checked_delivery_detail   79.872048\n",
       "checked_returns_detail     5.948372\n",
       "sign_in                   66.555574\n",
       "saw_checkout              70.898557\n",
       "saw_sizecharts             0.754803\n",
       "saw_delivery               3.146089\n",
       "saw_account_upgrade        2.585746\n",
       "saw_homepage              15.777765\n",
       "device_mobile             -4.290651\n",
       "device_computer            4.920838\n",
       "device_tablet              1.693924\n",
       "returning_user             6.029455\n",
       "loc_uk                     3.164270\n",
       "ordered                  100.000000"
      ]
     },
     "execution_count": 33,
     "metadata": {},
     "output_type": "execute_result"
    }
   ],
   "source": [
    "corr=pd.DataFrame(train_data.corr()['ordered']* 100)\n",
    "corr"
   ]
  },
  {
   "cell_type": "markdown",
   "id": "25acadb9",
   "metadata": {},
   "source": [
    "# Splitting Dataset"
   ]
  },
  {
   "cell_type": "code",
   "execution_count": 36,
   "id": "6ae2ec53",
   "metadata": {},
   "outputs": [],
   "source": [
    "#splitting into dependent and independent variable\n",
    "X=train_data.drop(labels=['ordered','UserID'],axis=1)\n",
    "y=train_data['ordered']"
   ]
  },
  {
   "cell_type": "code",
   "execution_count": 64,
   "id": "2f039822",
   "metadata": {},
   "outputs": [],
   "source": [
    "#splitting into train and test\n",
    "from sklearn.model_selection import train_test_split\n",
    "X_train,X_test,y_train,y_test= train_test_split(X,y,test_size=0.25,random_state=1)"
   ]
  },
  {
   "cell_type": "markdown",
   "id": "1d5e72dc",
   "metadata": {},
   "source": [
    "# Building the Machine Learning Model"
   ]
  },
  {
   "cell_type": "code",
   "execution_count": 65,
   "id": "1530b1aa",
   "metadata": {},
   "outputs": [],
   "source": [
    "from sklearn.naive_bayes import GaussianNB\n",
    "import sklearn\n",
    "model=GaussianNB()\n",
    "model=model.fit(X_train,y_train)\n",
    "\n",
    "predictions=model.predict(X_test)"
   ]
  },
  {
   "cell_type": "code",
   "execution_count": 66,
   "id": "3b5e5c58",
   "metadata": {},
   "outputs": [
    {
     "name": "stdout",
     "output_type": "stream",
     "text": [
      "The accuracy of the model (%) is: 98.78\n",
      "\n",
      "\n",
      "Confusion Matrix: [[107769   1326]\n",
      " [    59   4697]]\n"
     ]
    }
   ],
   "source": [
    "#Accuracy of predictions\n",
    "print('The accuracy of the model (%) is:' ,round(sklearn.metrics.accuracy_score(y_test, predictions)*100,2))\n",
    "print('\\n')\n",
    "print('Confusion Matrix:',sklearn.metrics.confusion_matrix(y_test,predictions))"
   ]
  },
  {
   "cell_type": "markdown",
   "id": "54096826",
   "metadata": {},
   "source": [
    "The machine learning model has an accuracy of 98% meaning that our model would most likely predict whether a customer would purchase or not with an accuracy of 98%."
   ]
  },
  {
   "cell_type": "markdown",
   "id": "cca81b48",
   "metadata": {},
   "source": [
    "# Predictions for New customers browsing the website"
   ]
  },
  {
   "cell_type": "markdown",
   "id": "97ba3ab3",
   "metadata": {},
   "source": [
    "The business would like to see in real time whether or not a customer browsing through the website would end up buying a product or not. Since the new buyer is not really doing much on the page let's assign a value of zero for inactivity for all the 23 features in our dataset."
   ]
  },
  {
   "cell_type": "code",
   "execution_count": 103,
   "id": "357810df",
   "metadata": {
    "scrolled": true
   },
   "outputs": [
    {
     "data": {
      "text/plain": [
       "array([0.])"
      ]
     },
     "execution_count": 103,
     "metadata": {},
     "output_type": "execute_result"
    }
   ],
   "source": [
    "Customer2 = np.array([0,0,0,0,0,0,0,0,0,0,0,0,0,0,0,0,0,0,0,0,0,0,0]).reshape(1, -1)\n",
    "model.predict_proba(Customer2)[:,1] "
   ]
  },
  {
   "cell_type": "markdown",
   "id": "c2d02054",
   "metadata": {},
   "source": [
    "Let us calculate the probability that the prospect would order after clicking on the account page, add to cart page etc"
   ]
  },
  {
   "cell_type": "code",
   "execution_count": 104,
   "id": "a94f2fbb",
   "metadata": {
    "scrolled": false
   },
   "outputs": [
    {
     "name": "stdout",
     "output_type": "stream",
     "text": [
      "Propensity [1.]\n"
     ]
    }
   ],
   "source": [
    "Customer3 = np.array([1,1,1,0,1,1,1,0,1,1,1,1,1,1,1,1,0,1,1,1,0,1,0]).reshape(1, -1)\n",
    "print('Propensity',model.predict_proba(Customer3)[:,1])"
   ]
  },
  {
   "cell_type": "markdown",
   "id": "d3546fc4",
   "metadata": {},
   "source": [
    "#### Using the prediction dataset"
   ]
  },
  {
   "cell_type": "code",
   "execution_count": 74,
   "id": "cdedbb8a",
   "metadata": {},
   "outputs": [
    {
     "data": {
      "text/html": [
       "<div>\n",
       "<style scoped>\n",
       "    .dataframe tbody tr th:only-of-type {\n",
       "        vertical-align: middle;\n",
       "    }\n",
       "\n",
       "    .dataframe tbody tr th {\n",
       "        vertical-align: top;\n",
       "    }\n",
       "\n",
       "    .dataframe thead th {\n",
       "        text-align: right;\n",
       "    }\n",
       "</style>\n",
       "<table border=\"1\" class=\"dataframe\">\n",
       "  <thead>\n",
       "    <tr style=\"text-align: right;\">\n",
       "      <th></th>\n",
       "      <th>UserID</th>\n",
       "      <th>basket_icon_click</th>\n",
       "      <th>basket_add_list</th>\n",
       "      <th>basket_add_detail</th>\n",
       "      <th>sort_by</th>\n",
       "      <th>image_picker</th>\n",
       "      <th>account_page_click</th>\n",
       "      <th>promo_banner_click</th>\n",
       "      <th>detail_wishlist_add</th>\n",
       "      <th>list_size_dropdown</th>\n",
       "      <th>...</th>\n",
       "      <th>saw_sizecharts</th>\n",
       "      <th>saw_delivery</th>\n",
       "      <th>saw_account_upgrade</th>\n",
       "      <th>saw_homepage</th>\n",
       "      <th>device_mobile</th>\n",
       "      <th>device_computer</th>\n",
       "      <th>device_tablet</th>\n",
       "      <th>returning_user</th>\n",
       "      <th>loc_uk</th>\n",
       "      <th>ordered</th>\n",
       "    </tr>\n",
       "  </thead>\n",
       "  <tbody>\n",
       "    <tr>\n",
       "      <th>0</th>\n",
       "      <td>9d24-25k4-47889d24-25k4-494b-398124</td>\n",
       "      <td>0</td>\n",
       "      <td>0</td>\n",
       "      <td>0</td>\n",
       "      <td>0</td>\n",
       "      <td>0</td>\n",
       "      <td>0</td>\n",
       "      <td>0</td>\n",
       "      <td>0</td>\n",
       "      <td>0</td>\n",
       "      <td>...</td>\n",
       "      <td>0</td>\n",
       "      <td>0</td>\n",
       "      <td>0</td>\n",
       "      <td>0</td>\n",
       "      <td>1</td>\n",
       "      <td>0</td>\n",
       "      <td>0</td>\n",
       "      <td>0</td>\n",
       "      <td>1</td>\n",
       "      <td>0</td>\n",
       "    </tr>\n",
       "  </tbody>\n",
       "</table>\n",
       "<p>1 rows × 25 columns</p>\n",
       "</div>"
      ],
      "text/plain": [
       "                                UserID  basket_icon_click  basket_add_list  \\\n",
       "0  9d24-25k4-47889d24-25k4-494b-398124                  0                0   \n",
       "\n",
       "   basket_add_detail  sort_by  image_picker  account_page_click  \\\n",
       "0                  0        0             0                   0   \n",
       "\n",
       "   promo_banner_click  detail_wishlist_add  list_size_dropdown  ...  \\\n",
       "0                   0                    0                   0  ...   \n",
       "\n",
       "   saw_sizecharts  saw_delivery  saw_account_upgrade  saw_homepage  \\\n",
       "0               0             0                    0             0   \n",
       "\n",
       "   device_mobile  device_computer  device_tablet  returning_user  loc_uk  \\\n",
       "0              1                0              0               0       1   \n",
       "\n",
       "   ordered  \n",
       "0        0  \n",
       "\n",
       "[1 rows x 25 columns]"
      ]
     },
     "execution_count": 74,
     "metadata": {},
     "output_type": "execute_result"
    }
   ],
   "source": [
    "prediction_data.head(1)"
   ]
  },
  {
   "cell_type": "code",
   "execution_count": 76,
   "id": "2b0aa058",
   "metadata": {
    "scrolled": true
   },
   "outputs": [],
   "source": [
    "new_prospects=prediction_data.drop(labels=['UserID','ordered'],axis=1)"
   ]
  },
  {
   "cell_type": "code",
   "execution_count": 84,
   "id": "95411658",
   "metadata": {},
   "outputs": [
    {
     "name": "stdout",
     "output_type": "stream",
     "text": [
      "   basket_icon_click  basket_add_list  basket_add_detail  sort_by  \\\n",
      "0                  0                0                  0        0   \n",
      "\n",
      "   image_picker  account_page_click  promo_banner_click  detail_wishlist_add  \\\n",
      "0             0                   0                   0                    0   \n",
      "\n",
      "   list_size_dropdown  closed_minibasket_click  ...  saw_checkout  \\\n",
      "0                   0                        0  ...             0   \n",
      "\n",
      "   saw_sizecharts  saw_delivery  saw_account_upgrade  saw_homepage  \\\n",
      "0               0             0                    0             0   \n",
      "\n",
      "   device_mobile  device_computer  device_tablet  returning_user  loc_uk  \n",
      "0              1                0              0               0       1  \n",
      "\n",
      "[1 rows x 23 columns]\n",
      "\n",
      "\n",
      "The propensity of customer1 with the above feautures is: [0.]\n"
     ]
    }
   ],
   "source": [
    "#Subsetting the prospect data to see if a customer with the attributes will purchase or not\n",
    "customer1=new_prospects[0:1]\n",
    "print(customer1)\n",
    "print('\\n')\n",
    "print('The propensity of customer1 with the above feautures is:',model.predict_proba(customer1)[:,1])"
   ]
  },
  {
   "cell_type": "markdown",
   "id": "b0829b41",
   "metadata": {},
   "source": [
    "Since our target variable is not a continous value, we can only predict if the customer visiting the website will purchae a product or not. Let's assume that the target is continous and our prediction has a continous value, we would be able to set a threshold for example, if the propensity score of a customer is above 60% then the sales agent can engage this customer in a live chat."
   ]
  },
  {
   "cell_type": "code",
   "execution_count": null,
   "id": "dd4098c1",
   "metadata": {},
   "outputs": [],
   "source": []
  }
 ],
 "metadata": {
  "kernelspec": {
   "display_name": "Python 3 (ipykernel)",
   "language": "python",
   "name": "python3"
  },
  "language_info": {
   "codemirror_mode": {
    "name": "ipython",
    "version": 3
   },
   "file_extension": ".py",
   "mimetype": "text/x-python",
   "name": "python",
   "nbconvert_exporter": "python",
   "pygments_lexer": "ipython3",
   "version": "3.9.12"
  }
 },
 "nbformat": 4,
 "nbformat_minor": 5
}
